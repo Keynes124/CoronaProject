{
  "nbformat": 4,
  "nbformat_minor": 0,
  "metadata": {
    "kernelspec": {
      "display_name": "Python 3",
      "language": "python",
      "name": "python3"
    },
    "language_info": {
      "codemirror_mode": {
        "name": "ipython",
        "version": 3
      },
      "file_extension": ".py",
      "mimetype": "text/x-python",
      "name": "python",
      "nbconvert_exporter": "python",
      "pygments_lexer": "ipython3",
      "version": "3.8.5-final"
    },
    "colab": {
      "name": "3-1 Getting started with neural networks.ipynb",
      "provenance": [],
      "include_colab_link": true
    }
  },
  "cells": [
    {
      "cell_type": "markdown",
      "metadata": {
        "id": "view-in-github",
        "colab_type": "text"
      },
      "source": [
        "<a href=\"https://colab.research.google.com/github/keywoong/CoronaProject1/blob/master/3_1_Getting_started_with_neural_networks.ipynb\" target=\"_parent\"><img src=\"https://colab.research.google.com/assets/colab-badge.svg\" alt=\"Open In Colab\"/></a>"
      ]
    },
    {
      "cell_type": "markdown",
      "metadata": {
        "id": "ZbqFy-i-cZ5r"
      },
      "source": [
        "# 3.1 Anatomy of neural network\n",
        "### 신경망의 구조 : Layers, input data, loss function, optimizer\n",
        "\n",
        "## 3.1.1 Layers : the building blocks of deep learning\n",
        "#### 입력값을 받고 그에 맞는 출력값으로 내보내는 데이터 가공 모듈이다.\n",
        "#### 다른 데이터 형식은 다른 데이터 처리 방식이 사용된다.예를 들어, 2D 데이터는 완전 연결 계층으로 가공이 되는 반면, 시퀀스 형태의 3차원 데이터는 RNN이나 LSTM으로 가공이 된다. 4차원 형태의 이미지 데이터는 2차원 합성곱 층인 CNN으로 가공이 된다."
      ]
    },
    {
      "cell_type": "code",
      "metadata": {
        "id": "MfpJXfBqcZ54"
      },
      "source": [
        "from keras import models\n",
        "from keras import layers\n",
        "layers = layers.Dense(32, input_shape = (784,) )\n",
        "# Dense : fully connected"
      ],
      "execution_count": null,
      "outputs": []
    },
    {
      "cell_type": "markdown",
      "metadata": {
        "id": "dsBMKH7WcZ56"
      },
      "source": [
        "#### 위의 layer은 첫번째 값이 '784'인 2차원 형태의 텐서를 입력값으로 받아 첫 번째 값이 32인 텐서와 연결시켜준다.\n",
        "## 3.1.2 Models : networks of layers\n",
        "#### 딥러닝은 비순환 형태의 층으로 구성되어 있다. \n",
        "#### 네트워크의 위상수학(?)"
      ]
    },
    {
      "cell_type": "markdown",
      "metadata": {
        "id": "lmKSxD-5cZ56"
      },
      "source": [
        "## 3.1.3 Loss functions and optimizers : keys to configuring the learning process\n",
        "#### 네트워크 구조가 만들어지면, 크게 2가지를 고려해야 한다. 목적함수와 optimizer\n",
        "#### 목적함수 : training하는 동안 최소화되어야 하는 대상. \n",
        "#### optimizer : 목적함수에 기반하여 네트워크를 업데이트하는 방식. (SGD와 비슷함)\n",
        "#### 올바른 목적함수를 정의하는 과정은 매우 중요하다. \n",
        "#### 다행히도 분류, 회귀, 시퀀스 예측과 같은 문제에서는 올바른 목적함수를 정의할 수 있는 간단한 가이드라인이 존재한다. \n",
        "#### (그냥 그렇구나 하고 인식) \n",
        "#### two-class Classification : binary crossentropy\n",
        "#### multi-class Classification : categorical crossentropy\n",
        "#### regression problem : mean-squared error\n",
        "#### sequence-learning problem : connectionist temporal Classification, CTC"
      ]
    },
    {
      "cell_type": "markdown",
      "metadata": {
        "id": "977bz5mgcZ57"
      },
      "source": [
        "# 3.2 Introduction to Keras\n",
        "## 3.2.1 Keras, Tensorflow, Theano, CNTK\n",
        "## 3.2.2 Developing with Keras : a quick overview\n",
        "#### \n",
        "#### 1. training 데이터를 정의한다. (입력값과 출력값, mnist에선 image와 label)\n",
        "#### 2. 네트워크 model 정의\n",
        "#### 3. loss function, optimizer, metrics to monitor(Accuracy)를 정의\n",
        "#### 4. fit( ) 함수를 통해 모델을 학습시킨다.\n",
        "#### 모델을 정의하는데는 2가지의 방법이 있다. Sequential( ) 클래스를 사용하거나 function-API를 사용"
      ]
    },
    {
      "cell_type": "code",
      "metadata": {
        "id": "4rKtbT33cZ58"
      },
      "source": [
        "# Sequential Class를 이용한 방법\n",
        "from keras import models\n",
        "from keras import layers\n",
        "\n",
        "model1 = models.Sequential()\n",
        "model1.add(layers.Dense(32, activation = 'relu', input_shape = (784,)))\n",
        "model1.add(layers.Dense(10, activation = 'softmax'))"
      ],
      "execution_count": null,
      "outputs": []
    },
    {
      "cell_type": "code",
      "metadata": {
        "id": "n-eIh8FKcZ59"
      },
      "source": [
        "#function API를 이용한 방법\n",
        "input_tensor = layers.Input(shape = (784,))\n",
        "x = layers.Dense(32, activation = 'relu')(input_tensor)\n",
        "output_tensor = layers.Dense(10, activation = 'softmax')(x)\n",
        "\n",
        "model2 = models.Model(inputs = input_tensor, outputs = output_tensor)"
      ],
      "execution_count": null,
      "outputs": []
    },
    {
      "cell_type": "markdown",
      "metadata": {
        "id": "hbJv2mkVcZ59"
      },
      "source": [
        "#### 위에 제시된 두 개의 코드는 모두 동일한 것으로, 일단 모형이 구성되면 keras_model_sequential을 사용하던 API를 사용하던 동일하게 작동한다. 다만 `summary()`를 통해 모형의 구성을 보면, 약간의 차이를 알 수 있다."
      ]
    },
    {
      "cell_type": "code",
      "metadata": {
        "id": "OO7fFRPYcZ5-",
        "outputId": "6557cfa2-6106-4fff-a906-c97b5e79535a"
      },
      "source": [
        "model1.summary()"
      ],
      "execution_count": null,
      "outputs": [
        {
          "output_type": "stream",
          "text": [
            "Model: \"sequential\"\n",
            "_________________________________________________________________\n",
            "Layer (type)                 Output Shape              Param #   \n",
            "=================================================================\n",
            "dense_1 (Dense)              (None, 32)                25120     \n",
            "_________________________________________________________________\n",
            "dense_2 (Dense)              (None, 10)                330       \n",
            "=================================================================\n",
            "Total params: 25,450\n",
            "Trainable params: 25,450\n",
            "Non-trainable params: 0\n",
            "_________________________________________________________________\n"
          ],
          "name": "stdout"
        }
      ]
    },
    {
      "cell_type": "markdown",
      "metadata": {
        "id": "NI_H2hIycZ6A"
      },
      "source": [
        "#### 다음은 learning process, compile하는 단계이다. "
      ]
    },
    {
      "cell_type": "code",
      "metadata": {
        "id": "PqLnI4XycZ6B",
        "outputId": "e92fa1fc-1386-45d4-9262-9ccfbea29efe"
      },
      "source": [
        "model2.summary()"
      ],
      "execution_count": null,
      "outputs": [
        {
          "output_type": "stream",
          "text": [
            "Model: \"functional_1\"\n",
            "_________________________________________________________________\n",
            "Layer (type)                 Output Shape              Param #   \n",
            "=================================================================\n",
            "input_1 (InputLayer)         [(None, 784)]             0         \n",
            "_________________________________________________________________\n",
            "dense_3 (Dense)              (None, 32)                25120     \n",
            "_________________________________________________________________\n",
            "dense_4 (Dense)              (None, 10)                330       \n",
            "=================================================================\n",
            "Total params: 25,450\n",
            "Trainable params: 25,450\n",
            "Non-trainable params: 0\n",
            "_________________________________________________________________\n"
          ],
          "name": "stdout"
        }
      ]
    },
    {
      "cell_type": "markdown",
      "metadata": {
        "id": "vxYXCE13cZ6C"
      },
      "source": [
        "#### "
      ]
    },
    {
      "cell_type": "code",
      "metadata": {
        "id": "zCAG1FoZcZ6C",
        "outputId": "27b304d6-6059-409d-989e-c0e33724c754"
      },
      "source": [
        "from keras import optimizers\n",
        "\n",
        "model.compile(optimizer = optimizers.RMSprop(lr = 0.001), loss = 'mse', metrics = ['accuracy'])"
      ],
      "execution_count": null,
      "outputs": [
        {
          "output_type": "error",
          "ename": "NameError",
          "evalue": "name 'model' is not defined",
          "traceback": [
            "\u001b[1;31m---------------------------------------------------------------------------\u001b[0m",
            "\u001b[1;31mNameError\u001b[0m                                 Traceback (most recent call last)",
            "\u001b[1;32m<ipython-input-11-9f615364a06e>\u001b[0m in \u001b[0;36m<module>\u001b[1;34m\u001b[0m\n\u001b[0;32m      1\u001b[0m \u001b[1;32mfrom\u001b[0m \u001b[0mkeras\u001b[0m \u001b[1;32mimport\u001b[0m \u001b[0moptimizers\u001b[0m\u001b[1;33m\u001b[0m\u001b[1;33m\u001b[0m\u001b[0m\n\u001b[0;32m      2\u001b[0m \u001b[1;33m\u001b[0m\u001b[0m\n\u001b[1;32m----> 3\u001b[1;33m \u001b[0mmodel\u001b[0m\u001b[1;33m.\u001b[0m\u001b[0mcompile\u001b[0m\u001b[1;33m(\u001b[0m\u001b[0moptimizer\u001b[0m \u001b[1;33m=\u001b[0m \u001b[0moptimizers\u001b[0m\u001b[1;33m.\u001b[0m\u001b[0mRMSprop\u001b[0m\u001b[1;33m(\u001b[0m\u001b[0mlr\u001b[0m \u001b[1;33m=\u001b[0m \u001b[1;36m0.001\u001b[0m\u001b[1;33m)\u001b[0m\u001b[1;33m,\u001b[0m \u001b[0mloss\u001b[0m \u001b[1;33m=\u001b[0m \u001b[1;34m'mse'\u001b[0m\u001b[1;33m,\u001b[0m \u001b[0mmetrics\u001b[0m \u001b[1;33m=\u001b[0m \u001b[1;33m[\u001b[0m\u001b[1;34m'accuracy'\u001b[0m\u001b[1;33m]\u001b[0m\u001b[1;33m)\u001b[0m\u001b[1;33m\u001b[0m\u001b[1;33m\u001b[0m\u001b[0m\n\u001b[0m",
            "\u001b[1;31mNameError\u001b[0m: name 'model' is not defined"
          ]
        }
      ]
    },
    {
      "cell_type": "code",
      "metadata": {
        "id": "YSwFJK3pcZ6D",
        "outputId": "30c56271-c91f-41fe-c1ad-aa69a5a23913"
      },
      "source": [
        "model.fit(input_tensor, target_tensor, batch_size = 128, epochs = 10)"
      ],
      "execution_count": null,
      "outputs": [
        {
          "output_type": "error",
          "ename": "NameError",
          "evalue": "name 'target_tensor' is not defined",
          "traceback": [
            "\u001b[1;31m---------------------------------------------------------------------------\u001b[0m",
            "\u001b[1;31mNameError\u001b[0m                                 Traceback (most recent call last)",
            "\u001b[1;32m<ipython-input-10-9f601776cc83>\u001b[0m in \u001b[0;36m<module>\u001b[1;34m\u001b[0m\n\u001b[1;32m----> 1\u001b[1;33m \u001b[0mmodel\u001b[0m\u001b[1;33m.\u001b[0m\u001b[0mfit\u001b[0m\u001b[1;33m(\u001b[0m\u001b[0minput_tensor\u001b[0m\u001b[1;33m,\u001b[0m \u001b[0mtarget_tensor\u001b[0m\u001b[1;33m,\u001b[0m \u001b[0mbatch_size\u001b[0m \u001b[1;33m=\u001b[0m \u001b[1;36m128\u001b[0m\u001b[1;33m,\u001b[0m \u001b[0mepochs\u001b[0m \u001b[1;33m=\u001b[0m \u001b[1;36m10\u001b[0m\u001b[1;33m)\u001b[0m\u001b[1;33m\u001b[0m\u001b[1;33m\u001b[0m\u001b[0m\n\u001b[0m",
            "\u001b[1;31mNameError\u001b[0m: name 'target_tensor' is not defined"
          ]
        }
      ]
    },
    {
      "cell_type": "code",
      "metadata": {
        "id": "tj2B3yhdcZ6E"
      },
      "source": [
        ""
      ],
      "execution_count": null,
      "outputs": []
    }
  ]
}